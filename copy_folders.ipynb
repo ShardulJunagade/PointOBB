{
 "cells": [
  {
   "cell_type": "code",
   "execution_count": 4,
   "id": "d7eb0f0b",
   "metadata": {},
   "outputs": [
    {
     "name": "stderr",
     "output_type": "stream",
     "text": [
      "Copying files: 100%|██████████| 1411/1411 [00:40<00:00, 34.99it/s]\n"
     ]
    },
    {
     "name": "stdout",
     "output_type": "stream",
     "text": [
      "Copied 1411 files from /home/shardul.junagade/my-work/domain-adaptation-brick-kilns/PointOBB2/data/DOTAv1/DOTA_V1.0/train/images to /home/shardul.junagade/my-work/domain-adaptation-brick-kilns/PointOBB/data/train/images\n"
     ]
    },
    {
     "name": "stderr",
     "output_type": "stream",
     "text": [
      "Copying files: 100%|██████████| 1411/1411 [00:00<00:00, 3293.13it/s]\n"
     ]
    },
    {
     "name": "stdout",
     "output_type": "stream",
     "text": [
      "Copied 1411 files from /home/shardul.junagade/my-work/domain-adaptation-brick-kilns/PointOBB2/data/DOTAv1/DOTA_V1.0/train/labelTxt-v1.0/labelTxt to /home/shardul.junagade/my-work/domain-adaptation-brick-kilns/PointOBB/data/train/labelTxt-v1.0/labelTxt\n"
     ]
    },
    {
     "name": "stderr",
     "output_type": "stream",
     "text": [
      "Copying files: 100%|██████████| 458/458 [00:07<00:00, 62.58it/s]\n"
     ]
    },
    {
     "name": "stdout",
     "output_type": "stream",
     "text": [
      "Copied 458 files from /home/shardul.junagade/my-work/domain-adaptation-brick-kilns/PointOBB2/data/DOTAv1/DOTA_V1.0/val/images to /home/shardul.junagade/my-work/domain-adaptation-brick-kilns/PointOBB/data/val/images\n"
     ]
    },
    {
     "name": "stderr",
     "output_type": "stream",
     "text": [
      "Copying files: 100%|██████████| 458/458 [00:00<00:00, 3842.31it/s]\n"
     ]
    },
    {
     "name": "stdout",
     "output_type": "stream",
     "text": [
      "Copied 458 files from /home/shardul.junagade/my-work/domain-adaptation-brick-kilns/PointOBB2/data/DOTAv1/DOTA_V1.0/val/labelTxt-v1.0/labelTxt to /home/shardul.junagade/my-work/domain-adaptation-brick-kilns/PointOBB/data/val/labelTxt-v1.0/labelTxt\n"
     ]
    },
    {
     "name": "stderr",
     "output_type": "stream",
     "text": [
      "Copying files: 100%|██████████| 937/937 [00:08<00:00, 107.94it/s]"
     ]
    },
    {
     "name": "stdout",
     "output_type": "stream",
     "text": [
      "Copied 937 files from /home/shardul.junagade/my-work/domain-adaptation-brick-kilns/PointOBB2/data/DOTAv1/DOTA_V1.0/test/images to /home/shardul.junagade/my-work/domain-adaptation-brick-kilns/PointOBB/data/test/images\n"
     ]
    },
    {
     "name": "stderr",
     "output_type": "stream",
     "text": [
      "\n"
     ]
    }
   ],
   "source": [
    "from tqdm import tqdm\n",
    "import shutil\n",
    "import os\n",
    "\n",
    "# copy from 1 folder to another\n",
    "def copy_files(src, dst):\n",
    "    \"\"\"\n",
    "    Copy files from src to dst.\n",
    "    :param src: Source directory\n",
    "    :param dst: Destination directory\n",
    "    \"\"\"\n",
    "    if not os.path.exists(dst):\n",
    "        os.makedirs(dst)\n",
    "\n",
    "    # Get the list of files in the source directory\n",
    "    files = os.listdir(src)\n",
    "\n",
    "    # Copy each file to the destination directory\n",
    "    for file in tqdm(files, desc=\"Copying files\"):\n",
    "        src_file = os.path.join(src, file)\n",
    "        dst_file = os.path.join(dst, file)\n",
    "        shutil.copy2(src_file, dst_file)\n",
    "    print(f\"Copied {len(files)} files from {src} to {dst}\")\n",
    "\n",
    "\n",
    "src = \"/home/shardul.junagade/my-work/domain-adaptation-brick-kilns/PointOBB2/data/DOTAv1/DOTA_V1.0\"\n",
    "dst = \"/home/shardul.junagade/my-work/domain-adaptation-brick-kilns/PointOBB/data\"\n",
    "folders = [\"train/images\", \"train/labelTxt-v1.0/labelTxt\", \"val/images\", \"val/labelTxt-v1.0/labelTxt\", \"test/images\"]\n",
    "\n",
    "for folder in folders:\n",
    "    src_folder = os.path.join(src, folder)\n",
    "    dst_folder = os.path.join(dst, folder)\n",
    "    copy_files(src_folder, dst_folder)\n"
   ]
  },
  {
   "cell_type": "code",
   "execution_count": null,
   "id": "04210b9f",
   "metadata": {},
   "outputs": [],
   "source": []
  }
 ],
 "metadata": {
  "kernelspec": {
   "display_name": "Python 3",
   "language": "python",
   "name": "python3"
  },
  "language_info": {
   "codemirror_mode": {
    "name": "ipython",
    "version": 3
   },
   "file_extension": ".py",
   "mimetype": "text/x-python",
   "name": "python",
   "nbconvert_exporter": "python",
   "pygments_lexer": "ipython3",
   "version": "3.12.9"
  }
 },
 "nbformat": 4,
 "nbformat_minor": 5
}
