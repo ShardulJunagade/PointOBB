{
 "cells": [
  {
   "cell_type": "code",
   "execution_count": 6,
   "id": "5d7b6662",
   "metadata": {},
   "outputs": [],
   "source": [
    "import json\n",
    "\n",
    "def analyze_structure(data, indent=0):\n",
    "    spacing = \"  \" * indent\n",
    "    if isinstance(data, dict):\n",
    "        print(f\"{spacing}Object with {len(data)} key(s):\")\n",
    "        for key, value in data.items():\n",
    "            print(f\"{spacing}  Key: '{key}' -> Type: {type(value).__name__}\")\n",
    "            analyze_structure(value, indent + 2)\n",
    "    elif isinstance(data, list):\n",
    "        # print(f\"{spacing}Array of {len(data)} element(s):\")\n",
    "        if data:\n",
    "            print(f\"{spacing}  First element type: {type(data[0]).__name__}\")\n",
    "            analyze_structure(data[0], indent + 2)  # only analyze the first element for brevity\n",
    "    else:\n",
    "        print(f\"{spacing}{type(data).__name__}: {data}\")\n",
    "\n",
    "def read_file(file_path):\n",
    "    with open(file_path, 'r') as file:\n",
    "        json_data = json.load(file)\n",
    "        analyze_structure(json_data)\n",
    "\n"
   ]
  },
  {
   "cell_type": "code",
   "execution_count": 7,
   "id": "39646fcb",
   "metadata": {},
   "outputs": [
    {
     "name": "stdout",
     "output_type": "stream",
     "text": [
      "Object with 3 key(s):\n",
      "  Key: 'images' -> Type: list\n",
      "      First element type: dict\n",
      "        Object with 4 key(s):\n",
      "          Key: 'file_name' -> Type: str\n",
      "            str: P1391__1024__1648___1648.png\n",
      "          Key: 'id' -> Type: int\n",
      "            int: 1\n",
      "          Key: 'width' -> Type: int\n",
      "            int: 1024\n",
      "          Key: 'height' -> Type: int\n",
      "            int: 1024\n",
      "  Key: 'categories' -> Type: list\n",
      "      First element type: dict\n",
      "        Object with 3 key(s):\n",
      "          Key: 'id' -> Type: int\n",
      "            int: 1\n",
      "          Key: 'name' -> Type: str\n",
      "            str: plane\n",
      "          Key: 'supercategory' -> Type: str\n",
      "            str: plane\n",
      "  Key: 'annotations' -> Type: list\n",
      "      First element type: dict\n",
      "        Object with 9 key(s):\n",
      "          Key: 'category_id' -> Type: int\n",
      "            int: 1\n",
      "          Key: 'segmentation' -> Type: list\n",
      "              First element type: list\n",
      "                  First element type: float\n",
      "                    float: 709.0\n",
      "          Key: 'iscrowd' -> Type: int\n",
      "            int: 0\n",
      "          Key: 'area' -> Type: float\n",
      "            float: 7722.0\n",
      "          Key: 'point' -> Type: list\n",
      "              First element type: float\n",
      "                float: 665.2107678456215\n",
      "          Key: 'true_rbox' -> Type: list\n",
      "              First element type: float\n",
      "                float: 709.0\n",
      "          Key: 'bbox' -> Type: list\n",
      "              First element type: float\n",
      "                float: 657.2107678456215\n",
      "          Key: 'image_id' -> Type: int\n",
      "            int: 1\n",
      "          Key: 'id' -> Type: int\n",
      "            int: 1\n"
     ]
    }
   ],
   "source": [
    "read_file(\"DOTAv10/data_train_2_5_gb/split_ss_dota_1024_200/trainval/trainval_1024_P2Bfmt_dotav10_rbox.json\")"
   ]
  },
  {
   "cell_type": "code",
   "execution_count": 8,
   "id": "641f5226",
   "metadata": {},
   "outputs": [
    {
     "name": "stdout",
     "output_type": "stream",
     "text": [
      "Object with 2 key(s):\n",
      "  Key: 'images' -> Type: list\n",
      "      First element type: dict\n",
      "        Object with 4 key(s):\n",
      "          Key: 'file_name' -> Type: str\n",
      "            str: P1157__1024__1648___0.png\n",
      "          Key: 'id' -> Type: int\n",
      "            int: 1\n",
      "          Key: 'width' -> Type: int\n",
      "            int: 1024\n",
      "          Key: 'height' -> Type: int\n",
      "            int: 1024\n",
      "  Key: 'categories' -> Type: list\n",
      "      First element type: dict\n",
      "        Object with 3 key(s):\n",
      "          Key: 'id' -> Type: int\n",
      "            int: 1\n",
      "          Key: 'name' -> Type: str\n",
      "            str: plane\n",
      "          Key: 'supercategory' -> Type: str\n",
      "            str: plane\n"
     ]
    }
   ],
   "source": [
    "read_file(\"DOTAv10/data_train_2_5_gb/split_ss_dota_1024_200/test/test_1024_P2Bfmt_dotav10_rbox.json\")"
   ]
  },
  {
   "cell_type": "code",
   "execution_count": null,
   "id": "b0c66030",
   "metadata": {},
   "outputs": [],
   "source": []
  }
 ],
 "metadata": {
  "kernelspec": {
   "display_name": "open-mmlab",
   "language": "python",
   "name": "python3"
  },
  "language_info": {
   "codemirror_mode": {
    "name": "ipython",
    "version": 3
   },
   "file_extension": ".py",
   "mimetype": "text/x-python",
   "name": "python",
   "nbconvert_exporter": "python",
   "pygments_lexer": "ipython3",
   "version": "3.8.20"
  }
 },
 "nbformat": 4,
 "nbformat_minor": 5
}
