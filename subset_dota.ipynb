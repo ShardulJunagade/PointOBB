{
 "cells": [
  {
   "cell_type": "code",
   "execution_count": null,
   "id": "32b6f5f0",
   "metadata": {},
   "outputs": [],
   "source": [
    "import os\n",
    "import random\n",
    "import shutil"
   ]
  },
  {
   "cell_type": "code",
   "execution_count": null,
   "id": "93411dcc",
   "metadata": {},
   "outputs": [
    {
     "name": "stdout",
     "output_type": "stream",
     "text": [
      "Subset created with 45 images and annotations.\n"
     ]
    }
   ],
   "source": [
    "dataset_path = \"data/DOTA_V1.0/val\"\n",
    "subset_path = \"data/dota_subset/val\"\n",
    "\n",
    "# Define paths\n",
    "dataset_img_path = dataset_path + \"/images\"\n",
    "dataset_ann_path = dataset_path + \"/labelTxt-v1.0/labelTxt/\"\n",
    "subset_img_path = subset_path + \"/images\"\n",
    "subset_ann_path = subset_path + \"/labelTxt-v1.0/labelTxt\"\n",
    "\n",
    "# Create directories for subset\n",
    "os.makedirs(subset_img_path, exist_ok=True)\n",
    "os.makedirs(subset_ann_path, exist_ok=True)\n",
    "\n",
    "# Get list of images\n",
    "all_images = [f for f in os.listdir(dataset_img_path) if f.endswith((\".jpg\", \".png\", \".tif\"))]\n",
    "\n",
    "# Select a subset of images\n",
    "subset_size = int(len(all_images) * 0.1)  # Adjust percentage as needed\n",
    "subset_images = random.sample(all_images, subset_size)\n",
    "\n",
    "# Copy selected images and their annotation files\n",
    "for img in subset_images:\n",
    "    shutil.copy(os.path.join(dataset_img_path, img), os.path.join(subset_img_path, img))\n",
    "\n",
    "    # Copy corresponding annotation file\n",
    "    ann_file = img.replace(os.path.splitext(img)[-1], \".txt\")  # Replace extension with .txt\n",
    "    ann_src = os.path.join(dataset_ann_path, ann_file)\n",
    "    ann_dst = os.path.join(subset_ann_path, ann_file)\n",
    "\n",
    "    if os.path.exists(ann_src):\n",
    "        shutil.copy(ann_src, ann_dst)\n",
    "\n",
    "print(f\"Subset created with {len(subset_images)} images and annotations.\")\n"
   ]
  },
  {
   "cell_type": "code",
   "execution_count": 4,
   "id": "d47e6264",
   "metadata": {},
   "outputs": [
    {
     "name": "stdout",
     "output_type": "stream",
     "text": [
      "Subset created with 93 images.\n"
     ]
    }
   ],
   "source": [
    "dataset_path = \"data/DOTA_V1.0/test\"\n",
    "subset_path = \"data/dota_subset/test\"\n",
    "\n",
    "# Define paths\n",
    "dataset_img_path = dataset_path + \"/images\"\n",
    "subset_img_path = subset_path + \"/images\"\n",
    "\n",
    "# Create directories for subset\n",
    "os.makedirs(subset_img_path, exist_ok=True)\n",
    "\n",
    "# Get list of images\n",
    "all_images = [f for f in os.listdir(dataset_img_path) if f.endswith((\".jpg\", \".png\", \".tif\"))]\n",
    "\n",
    "# Select a subset of images\n",
    "subset_size = int(len(all_images) * 0.1)  # Adjust percentage as needed\n",
    "subset_images = random.sample(all_images, subset_size)\n",
    "\n",
    "# Copy selected images\n",
    "for img in subset_images:\n",
    "    shutil.copy(os.path.join(dataset_img_path, img), os.path.join(subset_img_path, img))\n",
    "\n",
    "print(f\"Subset created with {len(subset_images)} images.\")\n"
   ]
  },
  {
   "cell_type": "code",
   "execution_count": null,
   "id": "f48d1c45",
   "metadata": {},
   "outputs": [],
   "source": []
  }
 ],
 "metadata": {
  "kernelspec": {
   "display_name": "Python 3",
   "language": "python",
   "name": "python3"
  },
  "language_info": {
   "codemirror_mode": {
    "name": "ipython",
    "version": 3
   },
   "file_extension": ".py",
   "mimetype": "text/x-python",
   "name": "python",
   "nbconvert_exporter": "python",
   "pygments_lexer": "ipython3",
   "version": "3.12.9"
  }
 },
 "nbformat": 4,
 "nbformat_minor": 5
}
