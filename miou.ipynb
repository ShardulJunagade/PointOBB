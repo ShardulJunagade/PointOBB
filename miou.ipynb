{
 "cells": [
  {
   "cell_type": "code",
   "execution_count": 1,
   "id": "2cffaf78",
   "metadata": {},
   "outputs": [
    {
     "name": "stdout",
     "output_type": "stream",
     "text": [
      "501\n",
      "501\n",
      "501\n"
     ]
    }
   ],
   "source": [
    "import os\n",
    "import glob\n",
    "import numpy as np\n",
    "from shapely.geometry import Polygon\n",
    "\n",
    "img_dir = \"./DOTAv10/data_train_2_5_gb/split_ss_dota_1024_200/val/images\"\n",
    "ann_dir = \"./DOTAv10/data_train_2_5_gb/split_ss_dota_1024_200/val/annfiles\"\n",
    "pred_dir = \"./DOTAv10/data_train_2_5_gb/split_ss_dota_1024_200/val/pseudo_obb_labelTxt_dota_pointobb\"\n",
    "\n",
    "img_list = sorted(os.listdir(img_dir))\n",
    "ann_list = sorted(os.listdir(ann_dir))\n",
    "pred_ann_list = sorted(os.listdir(pred_dir))\n",
    "\n",
    "print(len(img_list))\n",
    "print(len(ann_list))\n",
    "print(len(pred_ann_list))"
   ]
  },
  {
   "cell_type": "markdown",
   "id": "553d3d0e",
   "metadata": {},
   "source": [
    "### using many to one matching strategy"
   ]
  },
  {
   "cell_type": "code",
   "execution_count": 2,
   "id": "e4a7c0bf",
   "metadata": {},
   "outputs": [
    {
     "name": "stdout",
     "output_type": "stream",
     "text": [
      "Mean IoU between ./DOTAv10/data_train_2_5_gb/split_ss_dota_1024_200/val/annfiles and ./DOTAv10/data_train_2_5_gb/split_ss_dota_1024_200/val/pseudo_obb_labelTxt_dota_pointobb: 0.3124\n"
     ]
    }
   ],
   "source": [
    "def parse_dota_annotation(file_path):\n",
    "    \"\"\"Parse a DOTA annotation file and return a list of polygons with categories.\"\"\"\n",
    "    objects = []\n",
    "    with open(file_path, 'r') as f:\n",
    "        for line in f.readlines():\n",
    "            parts = line.strip().split()\n",
    "            if len(parts) < 9:\n",
    "                continue\n",
    "            coords = list(map(float, parts[:8]))  # Extract polygon points\n",
    "            category = parts[8]  # Extract category\n",
    "            polygon = Polygon([(coords[i], coords[i+1]) for i in range(0, 8, 2)])\n",
    "            objects.append((polygon, category))\n",
    "    return objects\n",
    "\n",
    "def compute_iou(poly1, poly2):\n",
    "    \"\"\"Compute Intersection over Union (IoU) between two polygons.\"\"\"\n",
    "    intersection = poly1.intersection(poly2).area\n",
    "    union = poly1.union(poly2).area\n",
    "    return intersection / union if union > 0 else 0\n",
    "\n",
    "def calculate_miou(folder1, folder2):\n",
    "    \"\"\"Calculate mean IoU between two annotation folders.\"\"\"\n",
    "    files1 = {os.path.basename(f): f for f in glob.glob(os.path.join(folder1, '*.txt'))}\n",
    "    files2 = {os.path.basename(f): f for f in glob.glob(os.path.join(folder2, '*.txt'))}\n",
    "\n",
    "    common_files = set(files1.keys()) & set(files2.keys())\n",
    "    total_iou = []\n",
    "    \n",
    "    for file in common_files:\n",
    "        objects1 = parse_dota_annotation(files1[file])\n",
    "        objects2 = parse_dota_annotation(files2[file])\n",
    "        \n",
    "        matched_ious = []\n",
    "        \n",
    "        for poly1, category1 in objects1:\n",
    "            best_iou = 0\n",
    "            for poly2, category2 in objects2:\n",
    "                if category1 == category2:  # Match by category\n",
    "                    iou = compute_iou(poly1, poly2)\n",
    "                    best_iou = max(best_iou, iou)\n",
    "            matched_ious.append(best_iou)\n",
    "        \n",
    "        total_iou.extend(matched_ious)\n",
    "    \n",
    "    return np.mean(total_iou) if total_iou else 0\n",
    "\n",
    "# Example Usage\n",
    "miou = calculate_miou(ann_dir, pred_dir)\n",
    "print(f\"Mean IoU between {ann_dir} and {pred_dir}: {miou:.4f}\")\n"
   ]
  },
  {
   "cell_type": "markdown",
   "id": "98901bd9",
   "metadata": {},
   "source": [
    "### Using linear sum assignment from scipy"
   ]
  },
  {
   "cell_type": "code",
   "execution_count": null,
   "id": "9370a7e9",
   "metadata": {},
   "outputs": [
    {
     "name": "stdout",
     "output_type": "stream",
     "text": [
      "Mean IoU between ./DOTAv10/data_train_2_5_gb/split_ss_dota_1024_200/val/annfiles and ./DOTAv10/data_train_2_5_gb/split_ss_dota_1024_200/val/pseudo_obb_labelTxt_dota_pointobb: 0.3096\n"
     ]
    }
   ],
   "source": [
    "import os\n",
    "import glob\n",
    "import numpy as np\n",
    "from shapely.geometry import Polygon\n",
    "from scipy.optimize import linear_sum_assignment\n",
    "\n",
    "def parse_dota_annotation(file_path):\n",
    "    \"\"\"Parse a DOTA annotation file and return a list of polygons with categories.\"\"\"\n",
    "    objects = []\n",
    "    with open(file_path, 'r') as f:\n",
    "        for line in f.readlines():\n",
    "            parts = line.strip().split()\n",
    "            if len(parts) < 9:\n",
    "                continue\n",
    "            coords = list(map(float, parts[:8]))  # Extract polygon points\n",
    "            category = parts[8]  # Extract category\n",
    "            polygon = Polygon([(coords[i], coords[i+1]) for i in range(0, 8, 2)])\n",
    "            objects.append((polygon, category))\n",
    "    return objects\n",
    "\n",
    "def compute_iou(poly1, poly2):\n",
    "    \"\"\"Compute Intersection over Union (IoU) between two polygons.\"\"\"\n",
    "    intersection = poly1.intersection(poly2).area\n",
    "    union = poly1.union(poly2).area\n",
    "    return intersection / union if union > 0 else 0\n",
    "\n",
    "def match_objects(objects1, objects2):\n",
    "    \"\"\"Perform one-to-one matching using the Hungarian algorithm.\"\"\"\n",
    "    if not objects1 or not objects2:\n",
    "        return []\n",
    "\n",
    "    iou_matrix = np.zeros((len(objects1), len(objects2)))\n",
    "\n",
    "    for i, (poly1, cat1) in enumerate(objects1):\n",
    "        for j, (poly2, cat2) in enumerate(objects2):\n",
    "            if cat1 == cat2:  # Match by category\n",
    "                iou_matrix[i, j] = compute_iou(poly1, poly2)\n",
    "    \n",
    "    # Convert IoU to a cost matrix (negative IoU for maximization)\n",
    "    cost_matrix = -iou_matrix  \n",
    "    row_ind, col_ind = linear_sum_assignment(cost_matrix)\n",
    "\n",
    "    matched_ious = [iou_matrix[i, j] for i, j in zip(row_ind, col_ind) if iou_matrix[i, j] > 0]\n",
    "    \n",
    "    return matched_ious\n",
    "\n",
    "def calculate_miou(folder1, folder2):\n",
    "    \"\"\"Calculate mean IoU between two annotation folders using optimal matching.\"\"\"\n",
    "    files1 = {os.path.basename(f): f for f in glob.glob(os.path.join(folder1, '*.txt'))}\n",
    "    files2 = {os.path.basename(f): f for f in glob.glob(os.path.join(folder2, '*.txt'))}\n",
    "\n",
    "    common_files = set(files1.keys()) & set(files2.keys())\n",
    "    total_iou = []\n",
    "    \n",
    "    for file in common_files:\n",
    "        objects1 = parse_dota_annotation(files1[file])\n",
    "        objects2 = parse_dota_annotation(files2[file])\n",
    "        \n",
    "        matched_ious = match_objects(objects1, objects2)\n",
    "        total_iou.extend(matched_ious)\n",
    "    \n",
    "    return np.mean(total_iou) if total_iou else 0\n",
    "\n",
    "miou = calculate_miou(ann_dir, pred_dir)\n",
    "print(f\"Mean IoU between {ann_dir} and {pred_dir}: {miou:.4f}\")"
   ]
  },
  {
   "cell_type": "code",
   "execution_count": null,
   "id": "8e9d0a94",
   "metadata": {},
   "outputs": [],
   "source": []
  }
 ],
 "metadata": {
  "kernelspec": {
   "display_name": "open-mmlab",
   "language": "python",
   "name": "python3"
  },
  "language_info": {
   "codemirror_mode": {
    "name": "ipython",
    "version": 3
   },
   "file_extension": ".py",
   "mimetype": "text/x-python",
   "name": "python",
   "nbconvert_exporter": "python",
   "pygments_lexer": "ipython3",
   "version": "3.8.20"
  }
 },
 "nbformat": 4,
 "nbformat_minor": 5
}
